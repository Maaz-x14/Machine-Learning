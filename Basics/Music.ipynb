{
 "cells": [
  {
   "cell_type": "code",
   "execution_count": 4,
   "id": "bdeb18c9-9fa8-4fb2-a0a9-6670033e27e4",
   "metadata": {},
   "outputs": [
    {
     "data": {
      "text/plain": [
       "1.0"
      ]
     },
     "execution_count": 4,
     "metadata": {},
     "output_type": "execute_result"
    }
   ],
   "source": [
    "import pandas as p\n",
    "from sklearn.tree import DecisionTreeClassifier \n",
    "from sklearn.model_selection import train_test_split\n",
    "from sklearn.metrics import accuracy_score\n",
    "\n",
    "data = p.read_csv(\"music.csv\")  # 1) Import the data\n",
    "X = data.drop(columns=['genre'])  #  2) Clean the data, in this case data is already clean\n",
    "Y = data[\"genre\"]  # 3) Seperate into training sets\n",
    "# X is input set and Y is output set\n",
    "X_train, X_test, Y_train, Y_test = train_test_split(X,Y, test_size=0.2)  # 80% data for training, 20% for testing, returns a tuple\n",
    "\n",
    "model = DecisionTreeClassifier()  # 4) Make a madel\n",
    "model.fit(X_train,Y_train)  # Fit func. is used to train the model, 2 parameters, one input and other output \n",
    "prediction = model.predict(X_test)  # 5) Test the accuracy of model, split the data into 2 sets, one for training and other for testing\n",
    "\n",
    "score = accuracy_score(Y_test, prediction)\n",
    "score"
   ]
  }
 ],
 "metadata": {
  "kernelspec": {
   "display_name": "base",
   "language": "python",
   "name": "python3"
  },
  "language_info": {
   "codemirror_mode": {
    "name": "ipython",
    "version": 3
   },
   "file_extension": ".py",
   "mimetype": "text/x-python",
   "name": "python",
   "nbconvert_exporter": "python",
   "pygments_lexer": "ipython3",
   "version": "3.11.7"
  }
 },
 "nbformat": 4,
 "nbformat_minor": 5
}
