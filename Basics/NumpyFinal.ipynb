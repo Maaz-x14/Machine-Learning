{
 "cells": [
  {
   "cell_type": "code",
   "execution_count": 43,
   "id": "5d1ab6b4-0864-42f1-8ccf-df5be47ccc36",
   "metadata": {},
   "outputs": [
    {
     "name": "stdout",
     "output_type": "stream",
     "text": [
      "(500, 2)\n"
     ]
    },
    {
     "data": {
      "text/html": [
       "<div>\n",
       "<style scoped>\n",
       "    .dataframe tbody tr th:only-of-type {\n",
       "        vertical-align: middle;\n",
       "    }\n",
       "\n",
       "    .dataframe tbody tr th {\n",
       "        vertical-align: top;\n",
       "    }\n",
       "\n",
       "    .dataframe thead th {\n",
       "        text-align: right;\n",
       "    }\n",
       "</style>\n",
       "<table border=\"1\" class=\"dataframe\">\n",
       "  <thead>\n",
       "    <tr style=\"text-align: right;\">\n",
       "      <th></th>\n",
       "      <th>Z1</th>\n",
       "      <th>Z2</th>\n",
       "    </tr>\n",
       "  </thead>\n",
       "  <tbody>\n",
       "    <tr>\n",
       "      <th>0</th>\n",
       "      <td>8.07+2.49i</td>\n",
       "      <td>0.73+6.58i</td>\n",
       "    </tr>\n",
       "    <tr>\n",
       "      <th>1</th>\n",
       "      <td>9.30+2.72i</td>\n",
       "      <td>5.44+8.78i</td>\n",
       "    </tr>\n",
       "    <tr>\n",
       "      <th>2</th>\n",
       "      <td>9.23+7.09i</td>\n",
       "      <td>4.40+1.65i</td>\n",
       "    </tr>\n",
       "    <tr>\n",
       "      <th>3</th>\n",
       "      <td>4.92+0.42i</td>\n",
       "      <td>9.87+5.03i</td>\n",
       "    </tr>\n",
       "    <tr>\n",
       "      <th>4</th>\n",
       "      <td>3.27+7.29i</td>\n",
       "      <td>8.40+6.12i</td>\n",
       "    </tr>\n",
       "    <tr>\n",
       "      <th>...</th>\n",
       "      <td>...</td>\n",
       "      <td>...</td>\n",
       "    </tr>\n",
       "    <tr>\n",
       "      <th>495</th>\n",
       "      <td>0.59+5.77i</td>\n",
       "      <td>6.70+1.51i</td>\n",
       "    </tr>\n",
       "    <tr>\n",
       "      <th>496</th>\n",
       "      <td>2.24+0.84i</td>\n",
       "      <td>0.20+0.15i</td>\n",
       "    </tr>\n",
       "    <tr>\n",
       "      <th>497</th>\n",
       "      <td>2.19+1.77i</td>\n",
       "      <td>6.95+8.95i</td>\n",
       "    </tr>\n",
       "    <tr>\n",
       "      <th>498</th>\n",
       "      <td>6.64+6.00i</td>\n",
       "      <td>1.18+1.17i</td>\n",
       "    </tr>\n",
       "    <tr>\n",
       "      <th>499</th>\n",
       "      <td>7.23+6.17i</td>\n",
       "      <td>7.54+5.68i</td>\n",
       "    </tr>\n",
       "  </tbody>\n",
       "</table>\n",
       "<p>500 rows × 2 columns</p>\n",
       "</div>"
      ],
      "text/plain": [
       "             Z1           Z2\n",
       "0     8.07+2.49i  0.73+6.58i\n",
       "1     9.30+2.72i  5.44+8.78i\n",
       "2     9.23+7.09i  4.40+1.65i\n",
       "3     4.92+0.42i  9.87+5.03i\n",
       "4     3.27+7.29i  8.40+6.12i\n",
       "..           ...         ...\n",
       "495   0.59+5.77i  6.70+1.51i\n",
       "496   2.24+0.84i  0.20+0.15i\n",
       "497   2.19+1.77i  6.95+8.95i\n",
       "498   6.64+6.00i  1.18+1.17i\n",
       "499   7.23+6.17i  7.54+5.68i\n",
       "\n",
       "[500 rows x 2 columns]"
      ]
     },
     "execution_count": 43,
     "metadata": {},
     "output_type": "execute_result"
    }
   ],
   "source": [
    "import pandas as pd\n",
    "import numpy as np\n",
    "\n",
    "data = pd.read_csv('InputData.txt')\n",
    "print(data.shape)\n",
    "data"
   ]
  },
  {
   "cell_type": "code",
   "execution_count": 95,
   "id": "ac76bc6b-eaf4-488a-9fc1-48a1b3182689",
   "metadata": {},
   "outputs": [],
   "source": [
    "# Convert columns to string (if they are not already)\n",
    "data['Z1 '] = data['Z1 '].astype(str)  # astype(datatype) converts col to desired data type\n",
    "data[' Z2'] = data[' Z2'].astype(str)\n",
    "\n",
    "# Replace 'i' with 'j' and convert to complex numbers\n",
    "data['Z1 '] = data['Z1 '].str.replace('i', 'j').astype(complex)\n",
    "data[' Z2'] = data[' Z2'].str.replace('i', 'j').astype(complex)"
   ]
  },
  {
   "cell_type": "code",
   "execution_count": 97,
   "id": "0e84880d-2b0f-4b43-a15e-61427992e7e8",
   "metadata": {},
   "outputs": [
    {
     "name": "stdout",
     "output_type": "stream",
     "text": [
      "            Z1           Z2         Z1+Z2       Z1-Z2              Z1Z2  \\\n",
      "0    8.07+2.49j  0.73+6.58j   8.80+ 9.07j  7.34-4.09j -10.4931+54.9183j   \n",
      "1    9.30+2.72j  5.44+8.78j  14.74+11.50j  3.86-6.06j  26.7104+96.4508j   \n",
      "2    9.23+7.09j  4.40+1.65j  13.63+ 8.74j  4.83+5.44j  28.9135+46.4255j   \n",
      "3    4.92+0.42j  9.87+5.03j  14.79+ 5.45j -4.95-4.61j  46.4478+28.8930j   \n",
      "4    3.27+7.29j  8.40+6.12j  11.67+13.41j -5.13+1.17j -17.1468+81.2484j   \n",
      "..          ...         ...           ...         ...               ...   \n",
      "495  0.59+5.77j  6.70+1.51j   7.29+ 7.28j -6.11+4.26j  -4.7597+39.5499j   \n",
      "496  2.24+0.84j  0.20+0.15j   2.44+ 0.99j  2.04+0.69j   0.3220+ 0.5040j   \n",
      "497  2.19+1.77j  6.95+8.95j   9.14+10.72j -4.76-7.18j  -0.6210+31.9020j   \n",
      "498  6.64+6.00j  1.18+1.17j   7.82+ 7.17j  5.46+4.83j   0.8152+14.8488j   \n",
      "499  7.23+6.17j  7.54+5.68j  14.77+11.85j -0.31+0.49j  19.4686+87.5882j   \n",
      "\n",
      "                  Z1/Z2               Z1^-1               Z2^-1  \n",
      "0    0.508229-1.170060j  0.113144-0.034911j  0.016656-0.150128j  \n",
      "1    0.698090-0.626696j  0.099054-0.028971j  0.050993-0.082301j  \n",
      "2    2.368867+0.723039j  0.068138-0.052340j  0.199253-0.074720j  \n",
      "3    0.412923-0.167883j  0.201782-0.017225j  0.080428-0.040988j  \n",
      "4    0.667344+0.381649j  0.051224-0.114197j  0.077767-0.056659j  \n",
      "..                  ...                 ...                 ...  \n",
      "495  0.268511+0.800679j  0.017538-0.171517j  0.142039-0.032012j  \n",
      "496  9.184000-2.688000j  0.391389-0.146771j  3.200000-2.400000j  \n",
      "497  0.241906-0.056844j  0.276201-0.223231j  0.054126-0.069701j  \n",
      "498  5.379785-0.249448j  0.082907-0.074916j  0.427335-0.423713j  \n",
      "499  1.005003+0.061218j  0.080029-0.068296j  0.084611-0.063739j  \n",
      "\n",
      "[500 rows x 8 columns]\n"
     ]
    }
   ],
   "source": [
    "# Adds new col and operates on cols\n",
    "data['Z1+Z2'] = data['Z1 '] + data[' Z2']\n",
    "data['Z1-Z2'] = data['Z1 '] - data[' Z2']\n",
    "data[\"Z1Z2\"] = data['Z1 '] * data[\" Z2\"]\n",
    "data[\"Z1/Z2\"] = data['Z1 '] / data[' Z2']\n",
    "data[\"Z1^-1\"] = 1/data['Z1 ']\n",
    "data[\"Z2^-1\"] = 1/data[' Z2']\n",
    "\n",
    "print(data)"
   ]
  },
  {
   "cell_type": "code",
   "execution_count": null,
   "id": "01dbd51d-d05e-49c6-8e70-8b490b5c3534",
   "metadata": {},
   "outputs": [],
   "source": [
    "\n"
   ]
  }
 ],
 "metadata": {
  "kernelspec": {
   "display_name": "Python 3 (ipykernel)",
   "language": "python",
   "name": "python3"
  },
  "language_info": {
   "codemirror_mode": {
    "name": "ipython",
    "version": 3
   },
   "file_extension": ".py",
   "mimetype": "text/x-python",
   "name": "python",
   "nbconvert_exporter": "python",
   "pygments_lexer": "ipython3",
   "version": "3.11.7"
  }
 },
 "nbformat": 4,
 "nbformat_minor": 5
}
