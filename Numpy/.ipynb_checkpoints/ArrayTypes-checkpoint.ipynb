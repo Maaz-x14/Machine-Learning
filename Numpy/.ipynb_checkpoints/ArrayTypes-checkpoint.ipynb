{
 "cells": [
  {
   "cell_type": "code",
   "execution_count": 22,
   "id": "fc073fdf-6c0f-4043-99a3-1e223358f97f",
   "metadata": {},
   "outputs": [
    {
     "data": {
      "text/plain": [
       "array([[[0, 0],\n",
       "        [0, 0]],\n",
       "\n",
       "       [[0, 0],\n",
       "        [5, 0]],\n",
       "\n",
       "       [[0, 0],\n",
       "        [0, 0]]], dtype=int32)"
      ]
     },
     "execution_count": 22,
     "metadata": {},
     "output_type": "execute_result"
    }
   ],
   "source": [
    "import numpy as np\n",
    "zeroArr = np.zeros((3,2,2), dtype='int32')  # Creates an array with all zeros, pass dimensions as args\n",
    "zeroArr[1,1,0] = 5\n",
    "zeroArr"
   ]
  },
  {
   "cell_type": "code",
   "execution_count": 24,
   "id": "4f69cea5-8948-4893-925f-865617d3da7b",
   "metadata": {},
   "outputs": [
    {
     "data": {
      "text/plain": [
       "array([[[1, 1, 1],\n",
       "        [1, 1, 1]],\n",
       "\n",
       "       [[1, 1, 1],\n",
       "        [1, 1, 1]]], dtype=int32)"
      ]
     },
     "execution_count": 24,
     "metadata": {},
     "output_type": "execute_result"
    }
   ],
   "source": [
    "onesArr = np.ones((2,2,3), dtype='int32')  # Creates an arr with 1s,pass size as args\n",
    "onesArr"
   ]
  },
  {
   "cell_type": "code",
   "execution_count": 36,
   "id": "436266cd-c88c-4488-b878-5517f1f729de",
   "metadata": {},
   "outputs": [
    {
     "data": {
      "text/plain": [
       "array([[14, 14, 14],\n",
       "       [14, 14, 14]], dtype=int32)"
      ]
     },
     "execution_count": 36,
     "metadata": {},
     "output_type": "execute_result"
    }
   ],
   "source": [
    "anyArr = np.full((2,3),14,dtype = 'int32')  # Args are positional\n",
    "anyArr"
   ]
  },
  {
   "cell_type": "code",
   "execution_count": 42,
   "id": "82b69ee9-7201-4e63-85c4-c3c18b10599f",
   "metadata": {},
   "outputs": [
    {
     "data": {
      "text/plain": [
       "array([[5, 5, 5],\n",
       "       [5, 5, 5]], dtype=int32)"
      ]
     },
     "execution_count": 42,
     "metadata": {},
     "output_type": "execute_result"
    }
   ],
   "source": [
    "# Full_Like\n",
    "likeArr = np.full_like(anyArr,5)  # Pass an already assigned array for size\n",
    "likeArr"
   ]
  },
  {
   "cell_type": "code",
   "execution_count": 180,
   "id": "377d3572-9b8a-454a-a9b4-2f12997fdb0d",
   "metadata": {},
   "outputs": [
    {
     "data": {
      "text/plain": [
       "array([4, 0])"
      ]
     },
     "execution_count": 180,
     "metadata": {},
     "output_type": "execute_result"
    }
   ],
   "source": [
    "# Random arr\n",
    "randArr = np.random.randint((5,8))\n",
    "randArr"
   ]
  }
 ],
 "metadata": {
  "kernelspec": {
   "display_name": "Python 3 (ipykernel)",
   "language": "python",
   "name": "python3"
  },
  "language_info": {
   "codemirror_mode": {
    "name": "ipython",
    "version": 3
   },
   "file_extension": ".py",
   "mimetype": "text/x-python",
   "name": "python",
   "nbconvert_exporter": "python",
   "pygments_lexer": "ipython3",
   "version": "3.12.4"
  }
 },
 "nbformat": 4,
 "nbformat_minor": 5
}
