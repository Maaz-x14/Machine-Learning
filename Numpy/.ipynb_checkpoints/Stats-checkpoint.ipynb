{
 "cells": [
  {
   "cell_type": "code",
   "execution_count": 16,
   "id": "886cf3fe-03e7-492e-b466-5cb4f3fe9f61",
   "metadata": {},
   "outputs": [
    {
     "name": "stdout",
     "output_type": "stream",
     "text": [
      "[2 3 1]\n"
     ]
    },
    {
     "data": {
      "text/plain": [
       "7"
      ]
     },
     "execution_count": 16,
     "metadata": {},
     "output_type": "execute_result"
    }
   ],
   "source": [
    "import numpy as np\n",
    "a = np.array([[2,4,6],[3,5,7],[1,1,1]])\n",
    "# Find min,max\n",
    "min = np.min(a)\n",
    "max = np.max(a)\n",
    "print(min)\n",
    "max"
   ]
  },
  {
   "cell_type": "code",
   "execution_count": 20,
   "id": "3e403424-d175-460f-ae31-0419751d6468",
   "metadata": {},
   "outputs": [
    {
     "name": "stdout",
     "output_type": "stream",
     "text": [
      "3.3333333333333335\n",
      "3.0\n"
     ]
    },
    {
     "data": {
      "text/plain": [
       "30"
      ]
     },
     "execution_count": 20,
     "metadata": {},
     "output_type": "execute_result"
    }
   ],
   "source": [
    "# Mean, median, mode\n",
    "mean = np.mean(a)\n",
    "median = np.median(a)\n",
    "sum = np.sum(a)\n",
    "# mode = np.mode(a)\n",
    "print(mean)\n",
    "print(median)\n",
    "sum"
   ]
  },
  {
   "cell_type": "code",
   "execution_count": 34,
   "id": "5fad7860-d943-47a4-81f5-8f1b02770009",
   "metadata": {},
   "outputs": [
    {
     "data": {
      "text/plain": [
       "array([[[1, 2],\n",
       "        [3, 4]],\n",
       "\n",
       "       [[5, 6],\n",
       "        [7, 8]]])"
      ]
     },
     "execution_count": 34,
     "metadata": {},
     "output_type": "execute_result"
    }
   ],
   "source": [
    "# Reshape\n",
    "arr = np.array([[1,2,3,4],[5,6,7,8]])\n",
    "newArr = arr.reshape(2,2,2)\n",
    "newArr"
   ]
  },
  {
   "cell_type": "code",
   "execution_count": 50,
   "id": "1326be1f-8dca-40b9-a7ca-615c3f453304",
   "metadata": {},
   "outputs": [
    {
     "data": {
      "text/plain": [
       "array([[1, 2, 3, 4],\n",
       "       [5, 6, 7, 8],\n",
       "       [1, 2, 3, 4],\n",
       "       [5, 6, 7, 8]])"
      ]
     },
     "execution_count": 50,
     "metadata": {},
     "output_type": "execute_result"
    }
   ],
   "source": [
    "# Verically Stacking \n",
    "v1 = np.array([1,2,3,4])\n",
    "v2 = np.array([5,6,7,8])\n",
    "vstack = np.vstack([v1,v2,v1,v2])\n",
    "vstack"
   ]
  },
  {
   "cell_type": "code",
   "execution_count": 58,
   "id": "5f9a9431-86fb-40d1-b681-8c22c75f944c",
   "metadata": {},
   "outputs": [
    {
     "data": {
      "text/plain": [
       "array([1, 2, 3, 4, 5, 6, 1, 2, 3])"
      ]
     },
     "execution_count": 58,
     "metadata": {},
     "output_type": "execute_result"
    }
   ],
   "source": [
    "# Horizontal stacks\n",
    "h1 = np.array([1,2,3])\n",
    "h2 = np.array([4,5,6])\n",
    "hstack = np.hstack([h1,h2,h1])\n",
    "hstack"
   ]
  },
  {
   "cell_type": "code",
   "execution_count": null,
   "id": "f8b315da-a1b9-4689-ba63-d15c13a063d1",
   "metadata": {},
   "outputs": [],
   "source": []
  }
 ],
 "metadata": {
  "kernelspec": {
   "display_name": "Python 3 (ipykernel)",
   "language": "python",
   "name": "python3"
  },
  "language_info": {
   "codemirror_mode": {
    "name": "ipython",
    "version": 3
   },
   "file_extension": ".py",
   "mimetype": "text/x-python",
   "name": "python",
   "nbconvert_exporter": "python",
   "pygments_lexer": "ipython3",
   "version": "3.12.4"
  }
 },
 "nbformat": 4,
 "nbformat_minor": 5
}
