{
 "cells": [
  {
   "cell_type": "code",
   "execution_count": 6,
   "id": "eb501224-000f-416c-9378-10a4fe1c1185",
   "metadata": {},
   "outputs": [
    {
     "data": {
      "text/plain": [
       "array([[ 1,  2,  3,  4,  5,  6,  7,  8],\n",
       "       [ 9, 10, 11, 12, 13, 14, 15, 16]])"
      ]
     },
     "execution_count": 6,
     "metadata": {},
     "output_type": "execute_result"
    }
   ],
   "source": [
    "import numpy as np\n",
    "myArr = np.array([[1,2,3,4,5,6,7,8],[9,10,11,12,13,14,15,16]])\n",
    "myArr  # 2d array"
   ]
  },
  {
   "cell_type": "code",
   "execution_count": 18,
   "id": "f3fd5b25-f68b-40d6-ba2f-9c4d0746f129",
   "metadata": {},
   "outputs": [
    {
     "name": "stdout",
     "output_type": "stream",
     "text": [
      "[ 9 10 11 12 13 14 15 16]\n"
     ]
    },
    {
     "data": {
      "text/plain": [
       "array([ 6, 14])"
      ]
     },
     "execution_count": 18,
     "metadata": {},
     "output_type": "execute_result"
    }
   ],
   "source": [
    "# Accessing of entire row\n",
    "print(myArr[1,:])\n",
    "# Accessing entire col\n",
    "myArr[:,5]"
   ]
  },
  {
   "cell_type": "code",
   "execution_count": 22,
   "id": "4c8efa7b-6194-4de4-ae19-5335e251d4c8",
   "metadata": {},
   "outputs": [
    {
     "data": {
      "text/plain": [
       "array([12, 14, 16])"
      ]
     },
     "execution_count": 22,
     "metadata": {},
     "output_type": "execute_result"
    }
   ],
   "source": [
    "# Special accessing\n",
    "myArr[1,3:8:2]  # start:end-1:gap"
   ]
  },
  {
   "cell_type": "code",
   "execution_count": 8,
   "id": "ba6325bd-b7d0-4776-986f-05dd02b6082f",
   "metadata": {},
   "outputs": [
    {
     "data": {
      "text/plain": [
       "array([[[1, 2],\n",
       "        [3, 4]],\n",
       "\n",
       "       [[5, 6],\n",
       "        [7, 8]]])"
      ]
     },
     "execution_count": 8,
     "metadata": {},
     "output_type": "execute_result"
    }
   ],
   "source": [
    "# 3d Array\n",
    "asd = np.array([[[1,2],[3,4]],[[5,6],[7,8]]])\n",
    "asd"
   ]
  },
  {
   "cell_type": "code",
   "execution_count": 12,
   "id": "7ab22da0-6d00-4ed0-a52d-3b6621b78482",
   "metadata": {},
   "outputs": [
    {
     "data": {
      "text/plain": [
       "array([6, 8])"
      ]
     },
     "execution_count": 12,
     "metadata": {},
     "output_type": "execute_result"
    }
   ],
   "source": [
    "# Accessing of 3d arr\n",
    "asd[1,:,1]"
   ]
  },
  {
   "cell_type": "code",
   "execution_count": 42,
   "id": "37832940-260d-4bfd-a258-bcb947a8a712",
   "metadata": {},
   "outputs": [
    {
     "data": {
      "text/plain": [
       "array([[[1, 2],\n",
       "        [3, 4]],\n",
       "\n",
       "       [[9, 9],\n",
       "        [9, 9]]])"
      ]
     },
     "execution_count": 42,
     "metadata": {},
     "output_type": "execute_result"
    }
   ],
   "source": [
    "# Replace any index\n",
    "asd[1,:,:] = 9\n",
    "asd"
   ]
  },
  {
   "cell_type": "code",
   "execution_count": null,
   "id": "52123edc-c5df-4bf2-a600-e2ac29b01641",
   "metadata": {},
   "outputs": [],
   "source": []
  }
 ],
 "metadata": {
  "kernelspec": {
   "display_name": "Python 3 (ipykernel)",
   "language": "python",
   "name": "python3"
  },
  "language_info": {
   "codemirror_mode": {
    "name": "ipython",
    "version": 3
   },
   "file_extension": ".py",
   "mimetype": "text/x-python",
   "name": "python",
   "nbconvert_exporter": "python",
   "pygments_lexer": "ipython3",
   "version": "3.12.4"
  }
 },
 "nbformat": 4,
 "nbformat_minor": 5
}
