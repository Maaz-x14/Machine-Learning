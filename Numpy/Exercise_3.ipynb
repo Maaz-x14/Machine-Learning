{
 "cells": [
  {
   "cell_type": "code",
   "execution_count": 24,
   "id": "b49a8ce1-6ea3-4fd5-87bf-fc9beaf3097d",
   "metadata": {},
   "outputs": [
    {
     "data": {
      "text/plain": [
       "array([[-1, -1],\n",
       "       [-1, -1],\n",
       "       [-1, -1],\n",
       "       ...,\n",
       "       [-1, -1],\n",
       "       [-1, -1],\n",
       "       [-1, -1]], dtype=int32)"
      ]
     },
     "execution_count": 24,
     "metadata": {},
     "output_type": "execute_result"
    }
   ],
   "source": [
    "import numpy as np \n",
    "data = np.genfromtxt('InputData.txt',delimiter=',' ,dtype='int32')\n",
    "data"
   ]
  }
 ],
 "metadata": {
  "kernelspec": {
   "display_name": "Python 3 (ipykernel)",
   "language": "python",
   "name": "python3"
  },
  "language_info": {
   "codemirror_mode": {
    "name": "ipython",
    "version": 3
   },
   "file_extension": ".py",
   "mimetype": "text/x-python",
   "name": "python",
   "nbconvert_exporter": "python",
   "pygments_lexer": "ipython3",
   "version": "3.12.4"
  }
 },
 "nbformat": 4,
 "nbformat_minor": 5
}
