{
 "cells": [
  {
   "cell_type": "code",
   "execution_count": 5,
   "id": "9a9c4671-8f2f-47b3-9c83-2f143c470910",
   "metadata": {},
   "outputs": [
    {
     "name": "stdout",
     "output_type": "stream",
     "text": [
      "[ 4  6  8 10]\n",
      "[0 2 4 6]\n",
      "[ 4  8 12 16]\n",
      "[1. 2. 3. 4.]\n",
      "[0 0 0 0]\n",
      "[ 4 16 36 64]\n",
      "[1 2 3 4]\n"
     ]
    }
   ],
   "source": [
    "import numpy as np\n",
    "a = np.array([2,4,6,8], dtype='int32')\n",
    "print(a+2)\n",
    "print(a-2)\n",
    "print(a*2)\n",
    "print(a/2)\n",
    "print(a%2)\n",
    "print(a**2)\n",
    "print(a//2)"
   ]
  },
  {
   "cell_type": "code",
   "execution_count": 11,
   "id": "de87210a-82aa-4a88-90de-a248b4c4aaaa",
   "metadata": {},
   "outputs": [
    {
     "data": {
      "text/plain": [
       "array([2, 2, 4, 4])"
      ]
     },
     "execution_count": 11,
     "metadata": {},
     "output_type": "execute_result"
    }
   ],
   "source": [
    "b = np.array([1,0,1,0])\n",
    "c = np.array([1,2,3,4])\n",
    "b + a - c  # Operates on each item at same index"
   ]
  },
  {
   "cell_type": "code",
   "execution_count": 50,
   "id": "42d41681-d51c-42a6-84a7-ac361ff313dd",
   "metadata": {},
   "outputs": [
    {
     "name": "stdout",
     "output_type": "stream",
     "text": [
      "0.99999999999912\n"
     ]
    }
   ],
   "source": [
    "# Trignometry \n",
    "\n",
    "print(np.sin(90*0.01745327778))"
   ]
  },
  {
   "cell_type": "code",
   "execution_count": 13,
   "id": "de1fd09d-1b1d-4bd7-a613-5d10921db4c6",
   "metadata": {},
   "outputs": [
    {
     "data": {
      "text/plain": [
       "array([[18, 18],\n",
       "       [18, 18]])"
      ]
     },
     "execution_count": 13,
     "metadata": {},
     "output_type": "execute_result"
    }
   ],
   "source": [
    "# Linear Algebra\n",
    "mat1 = np.full((2,3),2)\n",
    "mat2 = np.full((3,2),3)\n",
    "# mat1 * mat2   Gives error\n",
    "result = np.matmul(mat1,mat2)\n",
    "print(result)\n"
   ]
  },
  {
   "cell_type": "code",
   "execution_count": 90,
   "id": "9f29d789-55f5-4acf-a162-9a565a4016ce",
   "metadata": {},
   "outputs": [
    {
     "data": {
      "text/plain": [
       "0.0"
      ]
     },
     "execution_count": 90,
     "metadata": {},
     "output_type": "execute_result"
    }
   ],
   "source": [
    "# Det\\erminant\n",
    "det = np.linalg.det(result)\n",
    "det"
   ]
  },
  {
   "cell_type": "code",
   "execution_count": null,
   "id": "dcfdb213-8eab-4ea1-9153-3b13402b0fca",
   "metadata": {},
   "outputs": [],
   "source": [
    "# Inverse of a matrix\n"
   ]
  }
 ],
 "metadata": {
  "kernelspec": {
   "display_name": "Python 3 (ipykernel)",
   "language": "python",
   "name": "python3"
  },
  "language_info": {
   "codemirror_mode": {
    "name": "ipython",
    "version": 3
   },
   "file_extension": ".py",
   "mimetype": "text/x-python",
   "name": "python",
   "nbconvert_exporter": "python",
   "pygments_lexer": "ipython3",
   "version": "3.12.4"
  }
 },
 "nbformat": 4,
 "nbformat_minor": 5
}
