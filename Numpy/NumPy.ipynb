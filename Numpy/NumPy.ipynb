{
 "cells": [
  {
   "cell_type": "code",
   "execution_count": 1,
   "id": "3b2b9e41-560d-482f-b95f-7f5f9e095863",
   "metadata": {},
   "outputs": [
    {
     "data": {
      "text/plain": [
       "array([[ 4, 10, 18],\n",
       "       [ 1,  4,  9]], dtype=int32)"
      ]
     },
     "execution_count": 1,
     "metadata": {},
     "output_type": "execute_result"
    }
   ],
   "source": [
    "import numpy as np\n",
    "a = np.array([1,2,3], dtype='int32')\n",
    "b = np.array([[4,5,6],[1,2,3]], dtype='int32')\n",
    "multiply = a*b\n",
    "multiply"
   ]
  },
  {
   "cell_type": "code",
   "execution_count": 21,
   "id": "04d0f25f-a5f9-4fca-a144-93f5c5e2cc02",
   "metadata": {},
   "outputs": [
    {
     "data": {
      "text/plain": [
       "2"
      ]
     },
     "execution_count": 21,
     "metadata": {},
     "output_type": "execute_result"
    }
   ],
   "source": [
    "# Get dimension\n",
    "b."
   ]
  },
  {
   "cell_type": "code",
   "execution_count": 37,
   "id": "e1e25d36-fcf4-42c9-ac45-fce058217ac0",
   "metadata": {},
   "outputs": [
    {
     "data": {
      "text/plain": [
       "(2, 3)"
      ]
     },
     "execution_count": 37,
     "metadata": {},
     "output_type": "execute_result"
    }
   ],
   "source": [
    "# Get shape\n",
    "b.shape"
   ]
  },
  {
   "cell_type": "code",
   "execution_count": 47,
   "id": "303f59f2-fda8-4e86-adf3-92bda4e48704",
   "metadata": {},
   "outputs": [
    {
     "data": {
      "text/plain": [
       "dtype('float64')"
      ]
     },
     "execution_count": 47,
     "metadata": {},
     "output_type": "execute_result"
    }
   ],
   "source": [
    "# Get Data-Type\n",
    "b.dtype  # By default data type is 64, if you want to change you have to do at time of association"
   ]
  },
  {
   "cell_type": "code",
   "execution_count": 51,
   "id": "1cb3677a-6b62-44eb-ac3d-66b613fd8f5d",
   "metadata": {},
   "outputs": [
    {
     "data": {
      "text/plain": [
       "dtype('int16')"
      ]
     },
     "execution_count": 51,
     "metadata": {},
     "output_type": "execute_result"
    }
   ],
   "source": [
    "# Change data type\n",
    "new_type = np.array([1,2,3,4,5], dtype='int16')\n",
    "new_type.dtype"
   ]
  },
  {
   "cell_type": "code",
   "execution_count": 3,
   "id": "e8b9243d-2330-4499-82a3-11187dd2e742",
   "metadata": {},
   "outputs": [
    {
     "name": "stdout",
     "output_type": "stream",
     "text": [
      "4\n"
     ]
    },
    {
     "ename": "NameError",
     "evalue": "name 'new_type' is not defined",
     "output_type": "error",
     "traceback": [
      "\u001b[0;31m---------------------------------------------------------------------------\u001b[0m",
      "\u001b[0;31mNameError\u001b[0m                                 Traceback (most recent call last)",
      "Cell \u001b[0;32mIn[3], line 3\u001b[0m\n\u001b[1;32m      1\u001b[0m \u001b[38;5;66;03m# Get size of bytes\u001b[39;00m\n\u001b[1;32m      2\u001b[0m \u001b[38;5;28mprint\u001b[39m(a\u001b[38;5;241m.\u001b[39mitemsize)  \u001b[38;5;66;03m# 64 bit by default\u001b[39;00m\n\u001b[0;32m----> 3\u001b[0m new_type\u001b[38;5;241m.\u001b[39mitemsize\n",
      "\u001b[0;31mNameError\u001b[0m: name 'new_type' is not defined"
     ]
    }
   ],
   "source": [
    "# Get size of bytes\n",
    "print(a.itemsize)  # 64 bit by default\n",
    "new_type.itemsize  # 16 bit changed"
   ]
  },
  {
   "cell_type": "code",
   "execution_count": 67,
   "id": "cedbc2a8-aed5-4d20-b8f7-29d949e80349",
   "metadata": {},
   "outputs": [
    {
     "name": "stdout",
     "output_type": "stream",
     "text": [
      "3\n"
     ]
    },
    {
     "data": {
      "text/plain": [
       "24"
      ]
     },
     "execution_count": 67,
     "metadata": {},
     "output_type": "execute_result"
    }
   ],
   "source": [
    "# Get size of numpy array\n",
    "print(a.size)  # Size of array\n",
    "a.nbytes"
   ]
  }
 ],
 "metadata": {
  "kernelspec": {
   "display_name": "Python 3 (ipykernel)",
   "language": "python",
   "name": "python3"
  },
  "language_info": {
   "codemirror_mode": {
    "name": "ipython",
    "version": 3
   },
   "file_extension": ".py",
   "mimetype": "text/x-python",
   "name": "python",
   "nbconvert_exporter": "python",
   "pygments_lexer": "ipython3",
   "version": "3.12.4"
  }
 },
 "nbformat": 4,
 "nbformat_minor": 5
}
