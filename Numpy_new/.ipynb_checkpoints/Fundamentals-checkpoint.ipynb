{
 "cells": [
  {
   "cell_type": "markdown",
   "id": "a37f4de8-d26e-4e83-ad7f-510b1903925e",
   "metadata": {},
   "source": [
    "## Numpy Basics"
   ]
  },
  {
   "cell_type": "code",
   "execution_count": 19,
   "id": "f3564c1f-d55a-450c-a07e-195cb493b7db",
   "metadata": {},
   "outputs": [
    {
     "data": {
      "text/plain": [
       "array([[ 1,  2,  3,  4,  5,  6,  7],\n",
       "       [ 8,  9, 10, 11, 12, 13, 14]], dtype=int16)"
      ]
     },
     "execution_count": 19,
     "metadata": {},
     "output_type": "execute_result"
    }
   ],
   "source": [
    "import numpy as np\n",
    "\n",
    "a = np.array([\n",
    "    [1,2,3,4,5,6,7], \n",
    "    [8,9,10,11,12,13,14]\n",
    "], dtype='int16')\n",
    "\n",
    "a"
   ]
  },
  {
   "cell_type": "code",
   "execution_count": 2,
   "id": "ea0486c6-bba5-4a67-8e72-d19fd578e145",
   "metadata": {},
   "outputs": [
    {
     "data": {
      "text/plain": [
       "2"
      ]
     },
     "execution_count": 2,
     "metadata": {},
     "output_type": "execute_result"
    }
   ],
   "source": [
    "# Get dimension\n",
    "a.ndim"
   ]
  },
  {
   "cell_type": "code",
   "execution_count": 3,
   "id": "70493fbe-d687-4f2f-8f65-32efd7ad99b8",
   "metadata": {},
   "outputs": [
    {
     "name": "stdout",
     "output_type": "stream",
     "text": [
      "int16\n",
      "(2, 7)\n"
     ]
    }
   ],
   "source": [
    "# Get data-type\n",
    "print(a.dtype)\n",
    "print(a.shape)"
   ]
  },
  {
   "cell_type": "code",
   "execution_count": 4,
   "id": "223818e9-0362-4d11-8eb9-f3cbdd83ff3b",
   "metadata": {},
   "outputs": [
    {
     "name": "stdout",
     "output_type": "stream",
     "text": [
      "Item Size:  2\n",
      "Size:  14\n"
     ]
    }
   ],
   "source": [
    "print(\"Item Size: \", a.itemsize) # item size is no of bytes\n",
    "print(\"Size: \", a.size)"
   ]
  },
  {
   "cell_type": "code",
   "execution_count": 20,
   "id": "75779083-f3a6-4205-9bd3-772ed9262f6a",
   "metadata": {},
   "outputs": [
    {
     "data": {
      "text/plain": [
       "28"
      ]
     },
     "execution_count": 20,
     "metadata": {},
     "output_type": "execute_result"
    }
   ],
   "source": [
    "# Total size\n",
    "a.nbytes\n",
    "a.itemsize * a.size"
   ]
  },
  {
   "cell_type": "markdown",
   "id": "a4d2520c-e173-42da-a12a-ae28ddfd7167",
   "metadata": {},
   "source": [
    "## Get a specific row"
   ]
  },
  {
   "cell_type": "code",
   "execution_count": 17,
   "id": "414a4c6b-7735-451b-9ed5-d4e25e57b1d9",
   "metadata": {},
   "outputs": [
    {
     "data": {
      "text/plain": [
       "array([1, 2, 3, 4, 5, 6, 7], dtype=int16)"
      ]
     },
     "execution_count": 17,
     "metadata": {},
     "output_type": "execute_result"
    }
   ],
   "source": [
    "a[0, :]"
   ]
  },
  {
   "cell_type": "markdown",
   "id": "2a312907-e0e7-429b-8ded-7a8be760bf9a",
   "metadata": {},
   "source": [
    "## Get a specific column"
   ]
  },
  {
   "cell_type": "code",
   "execution_count": 21,
   "id": "13cf0efb-e98f-4e0b-8c67-29b348675894",
   "metadata": {},
   "outputs": [
    {
     "data": {
      "text/plain": [
       "array([ 6, 13], dtype=int16)"
      ]
     },
     "execution_count": 21,
     "metadata": {},
     "output_type": "execute_result"
    }
   ],
   "source": [
    "a[:, 5]"
   ]
  },
  {
   "cell_type": "code",
   "execution_count": 30,
   "id": "53a7748f-e75a-4b71-aeb6-15236421856b",
   "metadata": {},
   "outputs": [
    {
     "data": {
      "text/plain": [
       "array([2, 4, 6], dtype=int16)"
      ]
     },
     "execution_count": 30,
     "metadata": {},
     "output_type": "execute_result"
    }
   ],
   "source": [
    "# array[startindex,endindex,stepsize]\n",
    "a[0, 1:6:2]"
   ]
  },
  {
   "cell_type": "code",
   "execution_count": 36,
   "id": "c0a0f088-a9b0-4c63-8a6a-10512e823133",
   "metadata": {},
   "outputs": [
    {
     "data": {
      "text/plain": [
       "array([[[0., 0.],\n",
       "        [0., 0.],\n",
       "        [0., 0.]],\n",
       "\n",
       "       [[0., 0.],\n",
       "        [0., 0.],\n",
       "        [0., 0.]]])"
      ]
     },
     "execution_count": 36,
     "metadata": {},
     "output_type": "execute_result"
    }
   ],
   "source": [
    "np.zeros((2,3,2))"
   ]
  },
  {
   "cell_type": "code",
   "execution_count": 38,
   "id": "e9641dcd-b8c2-4edb-805b-c3b2ab665ba9",
   "metadata": {},
   "outputs": [
    {
     "data": {
      "text/plain": [
       "array([[1, 1],\n",
       "       [1, 1]], dtype=int16)"
      ]
     },
     "execution_count": 38,
     "metadata": {},
     "output_type": "execute_result"
    }
   ],
   "source": [
    "np.ones((2,2), dtype=\"int16\")"
   ]
  },
  {
   "cell_type": "code",
   "execution_count": 41,
   "id": "817a0cd1-1104-40b9-b5ee-3f778edb6846",
   "metadata": {},
   "outputs": [
    {
     "data": {
      "text/plain": [
       "array([[69., 69., 69.],\n",
       "       [69., 69., 69.]], dtype=float16)"
      ]
     },
     "execution_count": 41,
     "metadata": {},
     "output_type": "execute_result"
    }
   ],
   "source": [
    "np.full((2,3), 69, dtype=\"float16\")"
   ]
  },
  {
   "cell_type": "code",
   "execution_count": 43,
   "id": "132d2b4c-4638-467f-b51e-e7bfdeb49d8a",
   "metadata": {},
   "outputs": [
    {
     "data": {
      "text/plain": [
       "array([[12, 12, 12, 12, 12, 12, 12],\n",
       "       [12, 12, 12, 12, 12, 12, 12]], dtype=int16)"
      ]
     },
     "execution_count": 43,
     "metadata": {},
     "output_type": "execute_result"
    }
   ],
   "source": [
    "np.full_like(a, 12)"
   ]
  },
  {
   "cell_type": "code",
   "execution_count": 206,
   "id": "35e67689-19ac-44f0-ae66-0b959dff5046",
   "metadata": {},
   "outputs": [
    {
     "name": "stdout",
     "output_type": "stream",
     "text": [
      "[[0.60838811 0.24348181 0.26218673]\n",
      " [0.7420056  0.61945207 0.10324258]]\n"
     ]
    },
    {
     "data": {
      "text/plain": [
       "array([[[ 1, 40, -4],\n",
       "        [54, 59, 41],\n",
       "        [ 3, -4, 17]],\n",
       "\n",
       "       [[47, 49, 39],\n",
       "        [52, 66, 54],\n",
       "        [39, 22, 40]]])"
      ]
     },
     "execution_count": 206,
     "metadata": {},
     "output_type": "execute_result"
    }
   ],
   "source": [
    "# Random decimal number\n",
    "print(np.random.rand(2,3))\n",
    "\n",
    "# Random integer\n",
    "np.random.randint(-5,69, size=(2,3,3))"
   ]
  },
  {
   "cell_type": "code",
   "execution_count": 211,
   "id": "f44b2f4b-871d-46ac-aceb-ae0504f8ee34",
   "metadata": {},
   "outputs": [
    {
     "data": {
      "text/plain": [
       "array([[1., 0., 0.],\n",
       "       [0., 1., 0.],\n",
       "       [0., 0., 1.]])"
      ]
     },
     "execution_count": 211,
     "metadata": {},
     "output_type": "execute_result"
    }
   ],
   "source": [
    "np.eye(3)"
   ]
  },
  {
   "cell_type": "code",
   "execution_count": 217,
   "id": "bdb8909d-3a63-4596-a083-ad390337d2df",
   "metadata": {},
   "outputs": [
    {
     "data": {
      "text/plain": [
       "array([[ 1,  2,  3,  4,  5,  6,  7],\n",
       "       [ 1,  2,  3,  4,  5,  6,  7],\n",
       "       [ 8,  9, 10, 11, 12, 13, 14],\n",
       "       [ 8,  9, 10, 11, 12, 13, 14]], dtype=int16)"
      ]
     },
     "execution_count": 217,
     "metadata": {},
     "output_type": "execute_result"
    }
   ],
   "source": [
    "np.repeat(a, 2, axis=0)"
   ]
  },
  {
   "cell_type": "code",
   "execution_count": 225,
   "id": "2c40f3a4-8ebc-4de7-9f3d-23d8c9610fd8",
   "metadata": {},
   "outputs": [
    {
     "data": {
      "text/plain": [
       "array([[1., 1., 1., 1., 1.],\n",
       "       [1., 0., 0., 0., 1.],\n",
       "       [1., 0., 9., 0., 1.],\n",
       "       [1., 0., 0., 0., 1.],\n",
       "       [1., 1., 1., 1., 1.]])"
      ]
     },
     "execution_count": 225,
     "metadata": {},
     "output_type": "execute_result"
    }
   ],
   "source": [
    "arr = np.ones((5,5))\n",
    "arr[1:-1,1:-1] = 0\n",
    "arr[2,2] = 9\n",
    "arr"
   ]
  },
  {
   "cell_type": "code",
   "execution_count": 229,
   "id": "e082087d-5585-466c-821b-2fed059e7973",
   "metadata": {},
   "outputs": [
    {
     "data": {
      "text/plain": [
       "array([100000,      2,      3])"
      ]
     },
     "execution_count": 229,
     "metadata": {},
     "output_type": "execute_result"
    }
   ],
   "source": [
    "one = np.array([1,2,3])\n",
    "two = one\n",
    "two[0] = 100000\n",
    "one"
   ]
  },
  {
   "cell_type": "markdown",
   "id": "17efff31-b8ea-4beb-90ae-56429faf308c",
   "metadata": {},
   "source": [
    "#### Linear Algebra"
   ]
  },
  {
   "cell_type": "code",
   "execution_count": 237,
   "id": "147cab67-d0ef-41b7-bbe3-abc7058dc528",
   "metadata": {},
   "outputs": [
    {
     "name": "stdout",
     "output_type": "stream",
     "text": [
      "[[9. 9.]\n",
      " [9. 9.]]\n"
     ]
    },
    {
     "data": {
      "text/plain": [
       "array([[9., 9.],\n",
       "       [9., 9.]])"
      ]
     },
     "execution_count": 237,
     "metadata": {},
     "output_type": "execute_result"
    }
   ],
   "source": [
    "abcd = np.ones((2,3))\n",
    "efgh = np.full((3,2), 3)\n",
    "# abcd * efgh     # We cant multiply like this\n",
    "print(np.matmul(abcd, efgh))\n",
    "np.dot(abcd, efgh)"
   ]
  },
  {
   "cell_type": "markdown",
   "id": "c9a8a8d6-7685-48bf-a7ac-76f1c3695745",
   "metadata": {},
   "source": [
    "### Boolean masking and advanced indexing"
   ]
  },
  {
   "cell_type": "code",
   "execution_count": 249,
   "id": "6f912760-3158-4e20-a4e4-d7fff39e8bc4",
   "metadata": {},
   "outputs": [
    {
     "name": "stdout",
     "output_type": "stream",
     "text": [
      "[ 2  4  6  8 10 12 14]\n"
     ]
    },
    {
     "data": {
      "text/plain": [
       "array([2, 4, 5])"
      ]
     },
     "execution_count": 249,
     "metadata": {},
     "output_type": "execute_result"
    }
   ],
   "source": [
    "print(a[a%2==0])\n",
    "nigga = np.array([1,2,3,4,5,6,7,8,9])\n",
    "nigga[[1,3,4]]"
   ]
  },
  {
   "cell_type": "code",
   "execution_count": 289,
   "id": "01c6cfb1-cbd3-4bfc-b89f-cae1c463ce50",
   "metadata": {},
   "outputs": [
    {
     "name": "stdout",
     "output_type": "stream",
     "text": [
      "[ 2  8 14 20]\n",
      "[[ 4  5]\n",
      " [24 25]\n",
      " [29 30]]\n",
      "[[11 12]\n",
      " [16 17]]\n"
     ]
    }
   ],
   "source": [
    "final_arr = np.array([\n",
    "    [1,2,3,4,5],\n",
    "    [6,7,8,9,10],\n",
    "    [11,12,13,14,15],\n",
    "    [16,17,18,19,20],\n",
    "    [21,22,23,24,25],\n",
    "    [26,27,28,29,30],\n",
    "])\n",
    "# print(final_arr)\n",
    "print(final_arr[(final_arr % 6 == 2) & (final_arr < 21)])\n",
    "print(final_arr[[0,4,5], 3:])\n",
    "print(final_arr[2:-2,0:2])"
   ]
  }
 ],
 "metadata": {
  "kernelspec": {
   "display_name": "Python 3 (ipykernel)",
   "language": "python",
   "name": "python3"
  },
  "language_info": {
   "codemirror_mode": {
    "name": "ipython",
    "version": 3
   },
   "file_extension": ".py",
   "mimetype": "text/x-python",
   "name": "python",
   "nbconvert_exporter": "python",
   "pygments_lexer": "ipython3",
   "version": "3.11.7"
  },
  "widgets": {
   "application/vnd.jupyter.widget-state+json": {
    "state": {},
    "version_major": 2,
    "version_minor": 0
   }
  }
 },
 "nbformat": 4,
 "nbformat_minor": 5
}
