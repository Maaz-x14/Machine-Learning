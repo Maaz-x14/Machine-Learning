{
 "cells": [
  {
   "cell_type": "code",
   "execution_count": 1,
   "id": "f29a199d-4b2f-4ad8-861e-b03cf934b422",
   "metadata": {},
   "outputs": [],
   "source": [
    "from sklearn.preprocessing import StandardScaler, MinMaxScaler"
   ]
  },
  {
   "cell_type": "code",
   "execution_count": 3,
   "id": "3a939961-5373-4dc4-9ff6-2d451fa0b993",
   "metadata": {},
   "outputs": [],
   "source": [
    "import numpy as np\n",
    "\n",
    "# Synthetic dataset: 10 samples\n",
    "X = np.array([\n",
    "    [350, 1],\n",
    "    [600, 2],\n",
    "    [850, 2],\n",
    "    [1200, 3],\n",
    "    [1500, 3],\n",
    "    [1800, 4],\n",
    "    [2000, 5],\n",
    "    [950, 2],\n",
    "    [1300, 3],\n",
    "    [1700, 4]\n",
    "])\n"
   ]
  },
  {
   "cell_type": "code",
   "execution_count": 10,
   "id": "d62a2778-3ab3-4ddd-abaa-e8d3de2330c4",
   "metadata": {},
   "outputs": [
    {
     "data": {
      "text/plain": [
       "array([[0.        , 0.        ],\n",
       "       [0.15151515, 0.25      ],\n",
       "       [0.3030303 , 0.25      ],\n",
       "       [0.51515152, 0.5       ],\n",
       "       [0.6969697 , 0.5       ],\n",
       "       [0.87878788, 0.75      ],\n",
       "       [1.        , 1.        ],\n",
       "       [0.36363636, 0.25      ],\n",
       "       [0.57575758, 0.5       ],\n",
       "       [0.81818182, 0.75      ]])"
      ]
     },
     "execution_count": 10,
     "metadata": {},
     "output_type": "execute_result"
    }
   ],
   "source": [
    "# Z-score scaling\n",
    "scaler = StandardScaler()\n",
    "X_scaled = scaler.fit_transform(X)\n",
    "\n",
    "# Min-max scaling\n",
    "minmax = MinMaxScaler()\n",
    "X_minmax = minmax.fit_transform(X)\n"
   ]
  }
 ],
 "metadata": {
  "kernelspec": {
   "display_name": "Python 3 (ipykernel)",
   "language": "python",
   "name": "python3"
  },
  "language_info": {
   "codemirror_mode": {
    "name": "ipython",
    "version": 3
   },
   "file_extension": ".py",
   "mimetype": "text/x-python",
   "name": "python",
   "nbconvert_exporter": "python",
   "pygments_lexer": "ipython3",
   "version": "3.11.7"
  },
  "widgets": {
   "application/vnd.jupyter.widget-state+json": {
    "state": {},
    "version_major": 2,
    "version_minor": 0
   }
  }
 },
 "nbformat": 4,
 "nbformat_minor": 5
}
